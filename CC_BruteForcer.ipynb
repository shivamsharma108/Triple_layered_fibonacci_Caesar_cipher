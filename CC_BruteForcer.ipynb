{
 "cells": [
  {
   "cell_type": "code",
   "execution_count": 1,
   "id": "c2509d48",
   "metadata": {},
   "outputs": [
    {
     "name": "stdout",
     "output_type": "stream",
     "text": [
      "Caesar Cipher Breaker by Harsh vardhan\n",
      "Enter the encrypted Caesar cipher message to hack.\n",
      "> KYLYT PYAFLY GLRCPLYRGMLYJ GLQRGRSRC MD PCQCYPAF YLB QRSBGCQ\n",
      "Key #0: KYLYT PYAFLY GLRCPLYRGMLYJ GLQRGRSRC MD PCQCYPAF YLB QRSBGCQ\n",
      "Key #1: JXKXS OXZEKX FKQBOKXQFLKXI FKPQFQRQB LC OBPBXOZE XKA PQRAFBP\n",
      "Key #2: IWJWR NWYDJW EJPANJWPEKJWH EJOPEPQPA KB NAOAWNYD WJZ OPQZEAO\n",
      "Key #3: HVIVQ MVXCIV DIOZMIVODJIVG DINODOPOZ JA MZNZVMXC VIY NOPYDZN\n",
      "Key #4: GUHUP LUWBHU CHNYLHUNCIHUF CHMNCNONY IZ LYMYULWB UHX MNOXCYM\n",
      "Key #5: FTGTO KTVAGT BGMXKGTMBHGTE BGLMBMNMX HY KXLXTKVA TGW LMNWBXL\n",
      "Key #6: ESFSN JSUZFS AFLWJFSLAGFSD AFKLALMLW GX JWKWSJUZ SFV KLMVAWK\n",
      "Key #7: DRERM IRTYER ZEKVIERKZFERC ZEJKZKLKV FW IVJVRITY REU JKLUZVJ\n",
      "Key #8: CQDQL HQSXDQ YDJUHDQJYEDQB YDIJYJKJU EV HUIUQHSX QDT IJKTYUI\n",
      "Key #9: BPCPK GPRWCP XCITGCPIXDCPA XCHIXIJIT DU GTHTPGRW PCS HIJSXTH\n",
      "Key #10: AOBOJ FOQVBO WBHSFBOHWCBOZ WBGHWHIHS CT FSGSOFQV OBR GHIRWSG\n",
      "Key #11: ZNANI ENPUAN VAGREANGVBANY VAFGVGHGR BS ERFRNEPU NAQ FGHQVRF\n",
      "Key #12: YMZMH DMOTZM UZFQDZMFUAZMX UZEFUFGFQ AR DQEQMDOT MZP EFGPUQE\n",
      "Key #13: XLYLG CLNSYL TYEPCYLETZYLW TYDETEFEP ZQ CPDPLCNS LYO DEFOTPD\n",
      "Key #14: WKXKF BKMRXK SXDOBXKDSYXKV SXCDSDEDO YP BOCOKBMR KXN CDENSOC\n",
      "Key #15: VJWJE AJLQWJ RWCNAWJCRXWJU RWBCRCDCN XO ANBNJALQ JWM BCDMRNB\n",
      "Key #16: UIVID ZIKPVI QVBMZVIBQWVIT QVABQBCBM WN ZMAMIZKP IVL ABCLQMA\n",
      "Key #17: THUHC YHJOUH PUALYUHAPVUHS PUZAPABAL VM YLZLHYJO HUK ZABKPLZ\n",
      "Key #18: SGTGB XGINTG OTZKXTGZOUTGR OTYZOZAZK UL XKYKGXIN GTJ YZAJOKY\n",
      "Key #19: RFSFA WFHMSF NSYJWSFYNTSFQ NSXYNYZYJ TK WJXJFWHM FSI XYZINJX\n",
      "Key #20: QEREZ VEGLRE MRXIVREXMSREP MRWXMXYXI SJ VIWIEVGL ERH WXYHMIW\n",
      "Key #21: PDQDY UDFKQD LQWHUQDWLRQDO LQVWLWXWH RI UHVHDUFK DQG VWXGLHV\n",
      "Key #22: OCPCX TCEJPC KPVGTPCVKQPCN KPUVKVWVG QH TGUGCTEJ CPF UVWFKGU\n",
      "Key #23: NBOBW SBDIOB JOUFSOBUJPOBM JOTUJUVUF PG SFTFBSDI BOE TUVEJFT\n",
      "Key #24: MANAV RACHNA INTERNATIONAL INSTITUTE OF RESEARCH AND STUDIES\n",
      "Key #25: LZMZU QZBGMZ HMSDQMZSHNMZK HMRSHSTSD NE QDRDZQBG ZMC RSTCHDR\n"
     ]
    }
   ],
   "source": [
    "print('Caesar Cipher Breaker by Harsh vardhan')\n",
    "# specify the message to hack:\n",
    "print('Enter the encrypted Caesar cipher message to hack.')\n",
    "message = input('> ')\n",
    "# Every possible symbol that can be encrypted/decrypted:\n",
    "# (This must match the SYMBOLS used when encrypting the message.)\n",
    "SYMBOLS = 'ABCDEFGHIJKLMNOPQRSTUVWXYZ'\n",
    "\n",
    "for key in range(len(SYMBOLS)):\n",
    "    translated = ''\n",
    "# Loop through every possible key.\n",
    "# Decrypt each symbol in the message:\n",
    "    for symbol in message:\n",
    "        if symbol in SYMBOLS:\n",
    "            num = SYMBOLS.find(symbol) # Get the number of the symbol.\n",
    "            num = num - key # Decrypt the number.\n",
    "# Handle the wrap-around if num is less than 0:\n",
    "            if num < 0:\n",
    "                num = num + len(SYMBOLS)\n",
    "# Add decrypted number's symbol to translated:\n",
    "            translated = translated + SYMBOLS[num]\n",
    "        else:\n",
    "# Just add the symbol without decrypting:\n",
    "            translated = translated + symbol\n",
    "# Display the key being tested, along with its decrypted text:\n",
    "    print('Key #{}: {}'.format(key, translated))"
   ]
  },
  {
   "cell_type": "code",
   "execution_count": 2,
   "id": "a7684073",
   "metadata": {
    "scrolled": true
   },
   "outputs": [
    {
     "name": "stdout",
     "output_type": "stream",
     "text": [
      "Enter input\n",
      "Enter Hereyghj\n"
     ]
    }
   ],
   "source": [
    "print('Enter input')\n",
    "a=input('Enter Here')"
   ]
  },
  {
   "cell_type": "code",
   "execution_count": null,
   "id": "f596b30d",
   "metadata": {},
   "outputs": [],
   "source": [
    "message=input(\"Enter Message\")\n",
    "for i in range(26):\n",
    "    translated=''\n",
    "    for i in message:\n",
    "        translated="
   ]
  }
 ],
 "metadata": {
  "kernelspec": {
   "display_name": "Python 3",
   "language": "python",
   "name": "python3"
  },
  "language_info": {
   "codemirror_mode": {
    "name": "ipython",
    "version": 3
   },
   "file_extension": ".py",
   "mimetype": "text/x-python",
   "name": "python",
   "nbconvert_exporter": "python",
   "pygments_lexer": "ipython3",
   "version": "3.8.8"
  }
 },
 "nbformat": 4,
 "nbformat_minor": 5
}
